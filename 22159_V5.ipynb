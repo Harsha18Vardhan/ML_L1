{
 "cells": [
  {
   "cell_type": "code",
   "execution_count": 28,
   "metadata": {},
   "outputs": [
    {
     "name": "stdout",
     "output_type": "stream",
     "text": [
      "Pairs with sum 10: 2\n"
     ]
    }
   ],
   "source": [
    "#Q1\n",
    "# Function to claculate sum=10\n",
    "def Pairs_with_sum10(list,sum):\n",
    "    count=0\n",
    "# iteration that takes two numbers from list and checks the sum 10.    \n",
    "    for i in range(len(list)):\n",
    "        for k in range(i+1,len(list)):\n",
    "            # If sum is 10 makes count value to 10\n",
    "            if list[i]+list[k]== sum:\n",
    "                count+=1\n",
    "    return count\n",
    "# Giving values to Attributes of above function\n",
    "input_list=[2,7,4,1,3,6] \n",
    "sum=10 \n",
    "\n",
    "#Counts the pairs with sum=10\n",
    "No_of_pairs= Pairs_with_sum10(input_list,sum)\n",
    "\n",
    "#Display the results\n",
    "print(f\"Pairs with sum 10: {No_of_pairs}\")"
   ]
  },
  {
   "cell_type": "code",
   "execution_count": 29,
   "metadata": {},
   "outputs": [
    {
     "name": "stdout",
     "output_type": "stream",
     "text": [
      "The range Difference is : 9\n"
     ]
    }
   ],
   "source": [
    "#Q2\n",
    "#Checking the range lesser or equal to three\n",
    "def Range_List(List, m):\n",
    "    if (m <=3):\n",
    "        return \"Range Determination is not possible\"\n",
    "    else:\n",
    "        # Calucating the Range difference between min and max\n",
    "        user_input(List, m)\n",
    "        Minimum= min(List)\n",
    "        Maximum= max(List)\n",
    "        return Maximum-Minimum\n",
    "def user_input(List, m):\n",
    "    for i in range(0,m):\n",
    "        element = int(input(f\"Enter the {i+1} element\"))\n",
    "        List.append(element)\n",
    "    return List\n",
    "n=int(input(\"Enter number of Elements in the List: \"))\n",
    "List=[]\n",
    "print(f\"The range Difference is : {Range_List(List,n)}\")"
   ]
  },
  {
   "cell_type": "code",
   "execution_count": 2,
   "metadata": {},
   "outputs": [
    {
     "name": "stdout",
     "output_type": "stream",
     "text": [
      "[2, 2]\n",
      "[2, 2]\n"
     ]
    }
   ],
   "source": [
    "#Q3\n",
    "#To perform Matrix multiplication\n",
    "def Matrixmultiplication(A, B):\n",
    "    Result_matrix = []\n",
    "    for i in range(len(A)):\n",
    "        row = []\n",
    "        for j in range(len(B[0])):\n",
    "            #Calculate each of the element of the result matrix\n",
    "            element = sum(A[i][k] * B[k][j] for k in range(len(A[0])))\n",
    "            row.append(element)\n",
    "        Result_matrix.append(row)\n",
    "    return Result_matrix\n",
    "\n",
    "#to generate identity matrix of given size\n",
    "def identity_matrix(size):\n",
    "    #initialize empty matrix\n",
    "    return [[1 if i == j else 0 for j in range(size)] for i in range(size)]\n",
    "\n",
    "#function to calculate power of matrix\n",
    "def power_of_matrix(matrix, pow_matrix):\n",
    "    #check the matrix is square or not\n",
    "    if len(matrix) != len(matrix[0]):\n",
    "        raise ValueError('Enter the square matrix size only')\n",
    "    \n",
    "    Result_matrix = identity_matrix(len(matrix))\n",
    "    current_power = pow_matrix\n",
    "\n",
    "    while current_power > 0:\n",
    "        if current_power % 2 == 1:\n",
    "            Result_matrix = Matrixmultiplication(Result_matrix, matrix)\n",
    "        #square the matrix for next iteration\n",
    "        matrix = Matrixmultiplication(matrix, matrix)\n",
    "        current_power //= 2\n",
    "\n",
    "    return Result_matrix\n",
    "#taking the input values\n",
    "order_of_matrix = int(input(\"Matrix order: \"))\n",
    "matrix = [[int(input(f\"Enter element ({i+1}, {j+1}): \")) for j in range(order_of_matrix)] for i in range(order_of_matrix)]\n",
    "pow_matrix = int(input(\"Enter the power of matrix: \"))\n",
    "#calculate the power of matrix\n",
    "Result_matrix = power_of_matrix(matrix, pow_matrix)\n",
    "#print the result\n",
    "for row in Result_matrix:\n",
    "    print(row)"
   ]
  },
  {
   "cell_type": "code",
   "execution_count": 33,
   "metadata": {},
   "outputs": [
    {
     "name": "stdout",
     "output_type": "stream",
     "text": [
      "Input string: HARSHAVARDHAN\n",
      "The Maximum Occuring Character is 'A' and its count is 4.\n"
     ]
    }
   ],
   "source": [
    "#Q4\n",
    "#function to calculate maximum occuerence of letter in a given word\n",
    "def Max_occurence(input_string):\n",
    "    count = {}  #initialize the empty dictionary to store the character counts\n",
    "    #iteration for to check eaxh letter\n",
    "    for i in input_string:\n",
    "        if i in count:\n",
    "            count[i] = count[i] + 1 #if alredy exist increment the count\n",
    "        else:\n",
    "            count[i] = 1 #if for first time keep to 1 \n",
    "    #to find the character with maximum cout\n",
    "    result = max(count, key=count.get)\n",
    "    count_result = count[result] #Get the count\n",
    "    return result, count_result\n",
    "\n",
    "#taking input values\n",
    "x = input(\"Enter the string: \")\n",
    "print(\"Input string:\",x)\n",
    "result, count_result = Max_occurence(x)\n",
    "#print the result\n",
    "print(f\"The Maximum Occuring Character is '{result}' and its count is {count_result}.\")\n",
    "\n"
   ]
  }
 ],
 "metadata": {
  "kernelspec": {
   "display_name": "Python 3",
   "language": "python",
   "name": "python3"
  },
  "language_info": {
   "codemirror_mode": {
    "name": "ipython",
    "version": 3
   },
   "file_extension": ".py",
   "mimetype": "text/x-python",
   "name": "python",
   "nbconvert_exporter": "python",
   "pygments_lexer": "ipython3",
   "version": "3.11.5"
  }
 },
 "nbformat": 4,
 "nbformat_minor": 2
}
